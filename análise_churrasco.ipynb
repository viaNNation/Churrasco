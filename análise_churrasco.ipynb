{
 "cells": [
  {
   "cell_type": "code",
   "execution_count": 1,
   "id": "a9b5aac4-1fe4-4ca8-a8af-157102a30ea8",
   "metadata": {},
   "outputs": [],
   "source": [
    "import pandas as pd\n",
    "import seaborn as sns\n",
    "import matplotlib.pyplot as plt"
   ]
  },
  {
   "cell_type": "code",
   "execution_count": 2,
   "id": "8c16209e-73dc-480c-a5be-77671939a375",
   "metadata": {},
   "outputs": [
    {
     "data": {
      "text/html": [
       "<div>\n",
       "<style scoped>\n",
       "    .dataframe tbody tr th:only-of-type {\n",
       "        vertical-align: middle;\n",
       "    }\n",
       "\n",
       "    .dataframe tbody tr th {\n",
       "        vertical-align: top;\n",
       "    }\n",
       "\n",
       "    .dataframe thead th {\n",
       "        text-align: right;\n",
       "    }\n",
       "</style>\n",
       "<table border=\"1\" class=\"dataframe\">\n",
       "  <thead>\n",
       "    <tr style=\"text-align: right;\">\n",
       "      <th></th>\n",
       "      <th>espetos</th>\n",
       "      <th>quantidade</th>\n",
       "      <th>preço</th>\n",
       "      <th>preço final</th>\n",
       "    </tr>\n",
       "  </thead>\n",
       "  <tbody>\n",
       "    <tr>\n",
       "      <th>0</th>\n",
       "      <td>carne</td>\n",
       "      <td>70</td>\n",
       "      <td>R$ 2,59</td>\n",
       "      <td>R$ 181,30</td>\n",
       "    </tr>\n",
       "    <tr>\n",
       "      <th>1</th>\n",
       "      <td>frango</td>\n",
       "      <td>35</td>\n",
       "      <td>R$ 2,19</td>\n",
       "      <td>R$ 76,65</td>\n",
       "    </tr>\n",
       "    <tr>\n",
       "      <th>2</th>\n",
       "      <td>linguiça</td>\n",
       "      <td>25</td>\n",
       "      <td>R$ 2,19</td>\n",
       "      <td>R$ 54,75</td>\n",
       "    </tr>\n",
       "    <tr>\n",
       "      <th>3</th>\n",
       "      <td>coração</td>\n",
       "      <td>50</td>\n",
       "      <td>R$ 2,39</td>\n",
       "      <td>R$ 119,50</td>\n",
       "    </tr>\n",
       "    <tr>\n",
       "      <th>4</th>\n",
       "      <td>linguiça p</td>\n",
       "      <td>10</td>\n",
       "      <td>R$ 2,19</td>\n",
       "      <td>R$ 21,90</td>\n",
       "    </tr>\n",
       "    <tr>\n",
       "      <th>5</th>\n",
       "      <td>lombo</td>\n",
       "      <td>0</td>\n",
       "      <td>R$ 2,19</td>\n",
       "      <td>R$ 0,00</td>\n",
       "    </tr>\n",
       "    <tr>\n",
       "      <th>6</th>\n",
       "      <td>kafta</td>\n",
       "      <td>0</td>\n",
       "      <td>R$ 2,39</td>\n",
       "      <td>R$ 0,00</td>\n",
       "    </tr>\n",
       "    <tr>\n",
       "      <th>7</th>\n",
       "      <td>queijo</td>\n",
       "      <td>3</td>\n",
       "      <td>R$ 23,00</td>\n",
       "      <td>R$ 69,00</td>\n",
       "    </tr>\n",
       "    <tr>\n",
       "      <th>8</th>\n",
       "      <td>pão de alho</td>\n",
       "      <td>5</td>\n",
       "      <td>R$ 13,99</td>\n",
       "      <td>R$ 69,95</td>\n",
       "    </tr>\n",
       "  </tbody>\n",
       "</table>\n",
       "</div>"
      ],
      "text/plain": [
       "       espetos  quantidade     preço preço final\n",
       "0        carne          70   R$ 2,59   R$ 181,30\n",
       "1       frango          35   R$ 2,19    R$ 76,65\n",
       "2     linguiça          25   R$ 2,19    R$ 54,75\n",
       "3      coração          50   R$ 2,39   R$ 119,50\n",
       "4   linguiça p          10   R$ 2,19    R$ 21,90\n",
       "5        lombo           0   R$ 2,19     R$ 0,00\n",
       "6        kafta           0   R$ 2,39     R$ 0,00\n",
       "7       queijo           3  R$ 23,00    R$ 69,00\n",
       "8  pão de alho           5  R$ 13,99    R$ 69,95"
      ]
     },
     "execution_count": 2,
     "metadata": {},
     "output_type": "execute_result"
    }
   ],
   "source": [
    "df = pd.read_csv(\"https://raw.githubusercontent.com/viaNNation/Churrasco/main/planejamento_viagem%20-%20Página1.csv\")\n",
    "df"
   ]
  },
  {
   "cell_type": "code",
   "execution_count": 3,
   "id": "04c7187f-5b4d-4276-b56d-751012009907",
   "metadata": {},
   "outputs": [
    {
     "data": {
      "text/html": [
       "<div>\n",
       "<style scoped>\n",
       "    .dataframe tbody tr th:only-of-type {\n",
       "        vertical-align: middle;\n",
       "    }\n",
       "\n",
       "    .dataframe tbody tr th {\n",
       "        vertical-align: top;\n",
       "    }\n",
       "\n",
       "    .dataframe thead th {\n",
       "        text-align: right;\n",
       "    }\n",
       "</style>\n",
       "<table border=\"1\" class=\"dataframe\">\n",
       "  <thead>\n",
       "    <tr style=\"text-align: right;\">\n",
       "      <th></th>\n",
       "      <th>espetos</th>\n",
       "      <th>quantidade</th>\n",
       "      <th>preço</th>\n",
       "      <th>preço final</th>\n",
       "    </tr>\n",
       "  </thead>\n",
       "  <tbody>\n",
       "    <tr>\n",
       "      <th>0</th>\n",
       "      <td>carne</td>\n",
       "      <td>70</td>\n",
       "      <td>R$ 2,59</td>\n",
       "      <td>R$ 181,30</td>\n",
       "    </tr>\n",
       "    <tr>\n",
       "      <th>1</th>\n",
       "      <td>frango</td>\n",
       "      <td>35</td>\n",
       "      <td>R$ 2,19</td>\n",
       "      <td>R$ 76,65</td>\n",
       "    </tr>\n",
       "    <tr>\n",
       "      <th>2</th>\n",
       "      <td>linguiça</td>\n",
       "      <td>25</td>\n",
       "      <td>R$ 2,19</td>\n",
       "      <td>R$ 54,75</td>\n",
       "    </tr>\n",
       "    <tr>\n",
       "      <th>3</th>\n",
       "      <td>coração</td>\n",
       "      <td>50</td>\n",
       "      <td>R$ 2,39</td>\n",
       "      <td>R$ 119,50</td>\n",
       "    </tr>\n",
       "    <tr>\n",
       "      <th>4</th>\n",
       "      <td>linguiça p</td>\n",
       "      <td>10</td>\n",
       "      <td>R$ 2,19</td>\n",
       "      <td>R$ 21,90</td>\n",
       "    </tr>\n",
       "    <tr>\n",
       "      <th>7</th>\n",
       "      <td>queijo</td>\n",
       "      <td>3</td>\n",
       "      <td>R$ 23,00</td>\n",
       "      <td>R$ 69,00</td>\n",
       "    </tr>\n",
       "    <tr>\n",
       "      <th>8</th>\n",
       "      <td>pão de alho</td>\n",
       "      <td>5</td>\n",
       "      <td>R$ 13,99</td>\n",
       "      <td>R$ 69,95</td>\n",
       "    </tr>\n",
       "  </tbody>\n",
       "</table>\n",
       "</div>"
      ],
      "text/plain": [
       "       espetos  quantidade     preço preço final\n",
       "0        carne          70   R$ 2,59   R$ 181,30\n",
       "1       frango          35   R$ 2,19    R$ 76,65\n",
       "2     linguiça          25   R$ 2,19    R$ 54,75\n",
       "3      coração          50   R$ 2,39   R$ 119,50\n",
       "4   linguiça p          10   R$ 2,19    R$ 21,90\n",
       "7       queijo           3  R$ 23,00    R$ 69,00\n",
       "8  pão de alho           5  R$ 13,99    R$ 69,95"
      ]
     },
     "execution_count": 3,
     "metadata": {},
     "output_type": "execute_result"
    }
   ],
   "source": [
    "#retirando as linhas que temos 0 espetos\n",
    "df = df.drop([5, 6], axis=0)\n",
    "df"
   ]
  },
  {
   "cell_type": "markdown",
   "id": "af8cb877-5dac-4d43-a310-fd138e366fb3",
   "metadata": {},
   "source": [
    "## A partir de aqui estarei trabalhando os dados do data frame para transformar as colunas 'preço' e 'preço final' em float, pois náo será possível realizar operações matemáticas\n"
   ]
  },
  {
   "cell_type": "code",
   "execution_count": 4,
   "id": "6bad45cb-ba64-4af6-981c-8073fca76b9e",
   "metadata": {},
   "outputs": [],
   "source": [
    "df['preço final'] = df['preço final'].str.replace('R$', '')"
   ]
  },
  {
   "cell_type": "code",
   "execution_count": 5,
   "id": "b3beed07-56a6-451b-b8c9-0f4f7903c756",
   "metadata": {},
   "outputs": [],
   "source": [
    "df['preço final'] = df['preço final'].str.replace(',', '.')"
   ]
  },
  {
   "cell_type": "code",
   "execution_count": 6,
   "id": "3de8a21d-5833-45be-a7fc-e27aecd3c72f",
   "metadata": {},
   "outputs": [],
   "source": [
    "df['preço final'] = df['preço final'].astype(float)"
   ]
  },
  {
   "cell_type": "code",
   "execution_count": 7,
   "id": "90f2f57d-3419-4432-b2ce-75b38eb9b8e8",
   "metadata": {},
   "outputs": [],
   "source": [
    "df['preço'] = df['preço'].str.replace(',', '.')\n",
    "df['preço'] = df['preço'].str.replace('R$', '')\n",
    "df['preço'] = df['preço'].astype(float)"
   ]
  },
  {
   "cell_type": "code",
   "execution_count": 8,
   "id": "04c493ba-3e45-4b4e-a467-dae1b6a42647",
   "metadata": {},
   "outputs": [
    {
     "data": {
      "text/html": [
       "<div>\n",
       "<style scoped>\n",
       "    .dataframe tbody tr th:only-of-type {\n",
       "        vertical-align: middle;\n",
       "    }\n",
       "\n",
       "    .dataframe tbody tr th {\n",
       "        vertical-align: top;\n",
       "    }\n",
       "\n",
       "    .dataframe thead th {\n",
       "        text-align: right;\n",
       "    }\n",
       "</style>\n",
       "<table border=\"1\" class=\"dataframe\">\n",
       "  <thead>\n",
       "    <tr style=\"text-align: right;\">\n",
       "      <th></th>\n",
       "      <th>espetos</th>\n",
       "      <th>quantidade</th>\n",
       "      <th>preço</th>\n",
       "      <th>preço final</th>\n",
       "    </tr>\n",
       "  </thead>\n",
       "  <tbody>\n",
       "    <tr>\n",
       "      <th>0</th>\n",
       "      <td>carne</td>\n",
       "      <td>70</td>\n",
       "      <td>2.59</td>\n",
       "      <td>181.30</td>\n",
       "    </tr>\n",
       "    <tr>\n",
       "      <th>1</th>\n",
       "      <td>frango</td>\n",
       "      <td>35</td>\n",
       "      <td>2.19</td>\n",
       "      <td>76.65</td>\n",
       "    </tr>\n",
       "    <tr>\n",
       "      <th>2</th>\n",
       "      <td>linguiça</td>\n",
       "      <td>25</td>\n",
       "      <td>2.19</td>\n",
       "      <td>54.75</td>\n",
       "    </tr>\n",
       "    <tr>\n",
       "      <th>3</th>\n",
       "      <td>coração</td>\n",
       "      <td>50</td>\n",
       "      <td>2.39</td>\n",
       "      <td>119.50</td>\n",
       "    </tr>\n",
       "    <tr>\n",
       "      <th>4</th>\n",
       "      <td>linguiça p</td>\n",
       "      <td>10</td>\n",
       "      <td>2.19</td>\n",
       "      <td>21.90</td>\n",
       "    </tr>\n",
       "    <tr>\n",
       "      <th>7</th>\n",
       "      <td>queijo</td>\n",
       "      <td>3</td>\n",
       "      <td>23.00</td>\n",
       "      <td>69.00</td>\n",
       "    </tr>\n",
       "    <tr>\n",
       "      <th>8</th>\n",
       "      <td>pão de alho</td>\n",
       "      <td>5</td>\n",
       "      <td>13.99</td>\n",
       "      <td>69.95</td>\n",
       "    </tr>\n",
       "  </tbody>\n",
       "</table>\n",
       "</div>"
      ],
      "text/plain": [
       "       espetos  quantidade  preço  preço final\n",
       "0        carne          70   2.59       181.30\n",
       "1       frango          35   2.19        76.65\n",
       "2     linguiça          25   2.19        54.75\n",
       "3      coração          50   2.39       119.50\n",
       "4   linguiça p          10   2.19        21.90\n",
       "7       queijo           3  23.00        69.00\n",
       "8  pão de alho           5  13.99        69.95"
      ]
     },
     "execution_count": 8,
     "metadata": {},
     "output_type": "execute_result"
    }
   ],
   "source": [
    "df"
   ]
  },
  {
   "cell_type": "markdown",
   "id": "61d5cd0f-320e-4962-8a0d-b5640527cf0f",
   "metadata": {},
   "source": [
    "## corrigindo a quantidade e preço por unidade de queijo e pão de alho (estavam com unidade/preço por pacote, e não por espeto)"
   ]
  },
  {
   "cell_type": "code",
   "execution_count": 9,
   "id": "9ce9455c-60f8-4cf5-aa2a-0dba20327566",
   "metadata": {},
   "outputs": [],
   "source": [
    "#localizando as linhas do queijo e do pão de alho para corrigir as quantidades e preço unitário\n",
    "queijo_index = df[df['espetos'] == 'queijo'].index[0]\n",
    "pao_index = df[df['espetos'] == 'pão de alho'].index[0]\n",
    "\n",
    "# Alterar as quantidades e preços\n",
    "df.loc[queijo_index, 'quantidade'] = 21\n",
    "df.loc[queijo_index, 'preço'] = 3.28\n",
    "df.loc[pao_index, 'quantidade'] = 25\n",
    "df.loc[pao_index, 'preço'] = 2.80"
   ]
  },
  {
   "cell_type": "markdown",
   "id": "aeea657b-82a5-460e-98df-e462cd5940d5",
   "metadata": {},
   "source": [
    "## A partir de aqui estaremos vendo quais os produtos mais caros e mais baratos da nossa lista"
   ]
  },
  {
   "cell_type": "code",
   "execution_count": 10,
   "id": "d112be9e-ef40-425d-ae3b-fc11189f76dc",
   "metadata": {},
   "outputs": [
    {
     "data": {
      "text/html": [
       "<div>\n",
       "<style scoped>\n",
       "    .dataframe tbody tr th:only-of-type {\n",
       "        vertical-align: middle;\n",
       "    }\n",
       "\n",
       "    .dataframe tbody tr th {\n",
       "        vertical-align: top;\n",
       "    }\n",
       "\n",
       "    .dataframe thead th {\n",
       "        text-align: right;\n",
       "    }\n",
       "</style>\n",
       "<table border=\"1\" class=\"dataframe\">\n",
       "  <thead>\n",
       "    <tr style=\"text-align: right;\">\n",
       "      <th></th>\n",
       "      <th>espetos</th>\n",
       "      <th>quantidade</th>\n",
       "      <th>preço</th>\n",
       "      <th>preço final</th>\n",
       "    </tr>\n",
       "  </thead>\n",
       "  <tbody>\n",
       "    <tr>\n",
       "      <th>7</th>\n",
       "      <td>queijo</td>\n",
       "      <td>21</td>\n",
       "      <td>3.28</td>\n",
       "      <td>69.0</td>\n",
       "    </tr>\n",
       "  </tbody>\n",
       "</table>\n",
       "</div>"
      ],
      "text/plain": [
       "  espetos  quantidade  preço  preço final\n",
       "7  queijo          21   3.28         69.0"
      ]
     },
     "execution_count": 10,
     "metadata": {},
     "output_type": "execute_result"
    }
   ],
   "source": [
    "df[df[\"preço\"] == df[\"preço\"].max()]"
   ]
  },
  {
   "cell_type": "code",
   "execution_count": 11,
   "id": "524e1eef-0aa6-4f5f-bbd3-d8c3741d2548",
   "metadata": {},
   "outputs": [
    {
     "data": {
      "text/html": [
       "<div>\n",
       "<style scoped>\n",
       "    .dataframe tbody tr th:only-of-type {\n",
       "        vertical-align: middle;\n",
       "    }\n",
       "\n",
       "    .dataframe tbody tr th {\n",
       "        vertical-align: top;\n",
       "    }\n",
       "\n",
       "    .dataframe thead th {\n",
       "        text-align: right;\n",
       "    }\n",
       "</style>\n",
       "<table border=\"1\" class=\"dataframe\">\n",
       "  <thead>\n",
       "    <tr style=\"text-align: right;\">\n",
       "      <th></th>\n",
       "      <th>espetos</th>\n",
       "      <th>quantidade</th>\n",
       "      <th>preço</th>\n",
       "      <th>preço final</th>\n",
       "    </tr>\n",
       "  </thead>\n",
       "  <tbody>\n",
       "    <tr>\n",
       "      <th>1</th>\n",
       "      <td>frango</td>\n",
       "      <td>35</td>\n",
       "      <td>2.19</td>\n",
       "      <td>76.65</td>\n",
       "    </tr>\n",
       "    <tr>\n",
       "      <th>2</th>\n",
       "      <td>linguiça</td>\n",
       "      <td>25</td>\n",
       "      <td>2.19</td>\n",
       "      <td>54.75</td>\n",
       "    </tr>\n",
       "    <tr>\n",
       "      <th>4</th>\n",
       "      <td>linguiça p</td>\n",
       "      <td>10</td>\n",
       "      <td>2.19</td>\n",
       "      <td>21.90</td>\n",
       "    </tr>\n",
       "  </tbody>\n",
       "</table>\n",
       "</div>"
      ],
      "text/plain": [
       "      espetos  quantidade  preço  preço final\n",
       "1      frango          35   2.19        76.65\n",
       "2    linguiça          25   2.19        54.75\n",
       "4  linguiça p          10   2.19        21.90"
      ]
     },
     "execution_count": 11,
     "metadata": {},
     "output_type": "execute_result"
    }
   ],
   "source": [
    "df[df[\"preço\"] == df[\"preço\"].min()]"
   ]
  },
  {
   "cell_type": "markdown",
   "id": "8b99080a-842b-4555-98a9-9c7aaa61dc77",
   "metadata": {},
   "source": [
    "## Vamos calcular o valor a ser pago por cada um dos participantes da viagem"
   ]
  },
  {
   "cell_type": "code",
   "execution_count": 12,
   "id": "007b1950-a7c4-4390-a804-a214b0336d2d",
   "metadata": {},
   "outputs": [
    {
     "data": {
      "text/plain": [
       "39.53666666666667"
      ]
     },
     "execution_count": 12,
     "metadata": {},
     "output_type": "execute_result"
    }
   ],
   "source": [
    "df[\"preço final\"].sum()/15"
   ]
  },
  {
   "cell_type": "markdown",
   "id": "23116d0b-8571-4e4b-a945-080edad3a1fe",
   "metadata": {},
   "source": [
    "## Aqui estamos calculando a quantidade de itens que estão sendo comprados, e quantos itens teremos por pessoa"
   ]
  },
  {
   "cell_type": "code",
   "execution_count": 13,
   "id": "8499d86b-d4bf-4ab0-bf50-449d7e8334d6",
   "metadata": {},
   "outputs": [
    {
     "data": {
      "text/plain": [
       "236"
      ]
     },
     "execution_count": 13,
     "metadata": {},
     "output_type": "execute_result"
    }
   ],
   "source": [
    "df[\"quantidade\"].sum()"
   ]
  },
  {
   "cell_type": "code",
   "execution_count": 14,
   "id": "6da47d33-92be-4f78-b7b9-60671191c7a0",
   "metadata": {},
   "outputs": [
    {
     "data": {
      "text/plain": [
       "14.75"
      ]
     },
     "execution_count": 14,
     "metadata": {},
     "output_type": "execute_result"
    }
   ],
   "source": [
    "df[\"quantidade\"].sum()/16"
   ]
  },
  {
   "cell_type": "markdown",
   "id": "4dbfe2eb-a3fd-4e03-b7d8-9342e869ff92",
   "metadata": {},
   "source": [
    "## Aqui estamos plotando um gráfico de barras para visualização do custo total que está sendo pago por espeto"
   ]
  },
  {
   "cell_type": "code",
   "execution_count": 24,
   "id": "b8909b41-4f30-4bbc-ba36-3744bf727e62",
   "metadata": {},
   "outputs": [
    {
     "data": {
      "image/png": "[encoded data removed]",
      "text/plain": [
       "<Figure size 640x480 with 1 Axes>"
      ]
     },
     "metadata": {},
     "output_type": "display_data"
    }
   ],
   "source": [
    "sns.barplot(x='espetos', y='preço final', data=df)\n",
    "plt.title('barplot de preços finais')\n",
    "plt.ylabel('Valores (R$)')\n",
    "sns.set_palette(\"dark\")\n",
    "plt.show()"
   ]
  },
  {
   "cell_type": "markdown",
   "id": "4e730b45-b4b7-48a0-9464-8b492300c2bc",
   "metadata": {},
   "source": [
    "## plotando um gráfico para vermos a proporção de espetos que estão sendo adquiridas"
   ]
  },
  {
   "cell_type": "code",
   "execution_count": 33,
   "id": "c6721530-fe16-4c19-bc92-eb1b00718ec7",
   "metadata": {},
   "outputs": [
    {
     "data": {
      "image/png": "[encoded data removed]",
      "text/plain": [
       "<Figure size 1200x800 with 1 Axes>"
      ]
     },
     "metadata": {},
     "output_type": "display_data"
    }
   ],
   "source": [
    "labels = df[\"espetos\"]\n",
    "sizes = df[\"quantidade\"]\n",
    "colors = ['#FABC3F', '#C70039', '#D5ED9F', 'darkred', '#00712D', '#9DBDFF', '#C75B7A']\n",
    "plt.figure(figsize=(12, 8), dpi=100)\n",
    "\n",
    "plt.pie(sizes, colors=colors, autopct='%1.1f%%', startangle=90)\n",
    "plt.title('Proporção de Tipo de Espeto')\n",
    "\n",
    "# Adicionar a legenda no canto superior direito e associar às cores\n",
    "plt.legend(labels, loc='upper right', bbox_to_anchor=(1.2, 1))\n",
    "\n",
    "plt.show()"
   ]
  }
 ],
 "metadata": {
  "kernelspec": {
   "display_name": "Python 3 (ipykernel)",
   "language": "python",
   "name": "python3"
  },
  "language_info": {
   "codemirror_mode": {
    "name": "ipython",
    "version": 3
   },
   "file_extension": ".py",
   "mimetype": "text/x-python",
   "name": "python",
   "nbconvert_exporter": "python",
   "pygments_lexer": "ipython3",
   "version": "3.12.4"
  }
 },
 "nbformat": 4,
 "nbformat_minor": 5
}
